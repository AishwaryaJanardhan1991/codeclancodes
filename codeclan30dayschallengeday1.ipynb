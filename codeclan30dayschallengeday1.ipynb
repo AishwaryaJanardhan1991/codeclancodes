{
 "cells": [
  {
   "cell_type": "code",
   "execution_count": 4,
   "id": "b165e248-7fce-49b8-87f4-a81a7236be23",
   "metadata": {},
   "outputs": [
    {
     "name": "stdin",
     "output_type": "stream",
     "text": [
      "Enter your Birth year:  1995\n"
     ]
    },
    {
     "name": "stdout",
     "output_type": "stream",
     "text": [
      "yu are 30 year old.\n"
     ]
    }
   ],
   "source": [
    "# code for calculating age of a person \n",
    "from datetime import date\n",
    "\n",
    "Current_year = date.today().year\n",
    "# asking the person's Birth year\n",
    "Birth_year = int(input('Enter your Birth year: '))\n",
    "\n",
    "# calculating the age\n",
    "Age = Current_year - Birth_year\n",
    "\n",
    "# printing the age of the person\n",
    "print(f\"yu are {Age} year old.\")"
   ]
  }
 ],
 "metadata": {
  "kernelspec": {
   "display_name": "Python 3 (ipykernel)",
   "language": "python",
   "name": "python3"
  },
  "language_info": {
   "codemirror_mode": {
    "name": "ipython",
    "version": 3
   },
   "file_extension": ".py",
   "mimetype": "text/x-python",
   "name": "python",
   "nbconvert_exporter": "python",
   "pygments_lexer": "ipython3",
   "version": "3.12.7"
  }
 },
 "nbformat": 4,
 "nbformat_minor": 5
}
