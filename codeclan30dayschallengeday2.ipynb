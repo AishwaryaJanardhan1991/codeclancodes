{
 "cells": [
  {
   "cell_type": "code",
   "execution_count": 27,
   "id": "36757db9-3e04-4d0d-a197-c6c4172e1b81",
   "metadata": {},
   "outputs": [
    {
     "name": "stdout",
     "output_type": "stream",
     "text": [
      "Guess the magic number between 1 and 10! You have 5 attempts.\n"
     ]
    },
    {
     "name": "stdin",
     "output_type": "stream",
     "text": [
      "Enter your guess:  5\n"
     ]
    },
    {
     "name": "stdout",
     "output_type": "stream",
     "text": [
      "Not the correct one. Attempts left: 4\n"
     ]
    },
    {
     "name": "stdin",
     "output_type": "stream",
     "text": [
      "Enter your guess:  8\n"
     ]
    },
    {
     "name": "stdout",
     "output_type": "stream",
     "text": [
      "Not the correct one. Attempts left: 3\n"
     ]
    },
    {
     "name": "stdin",
     "output_type": "stream",
     "text": [
      "Enter your guess:  3\n"
     ]
    },
    {
     "name": "stdout",
     "output_type": "stream",
     "text": [
      "Too low! Try again. Attempts left: 2\n"
     ]
    },
    {
     "name": "stdin",
     "output_type": "stream",
     "text": [
      "Enter your guess:  9\n"
     ]
    },
    {
     "name": "stdout",
     "output_type": "stream",
     "text": [
      "Congratulations! Your guess is correct.\n"
     ]
    }
   ],
   "source": [
    "# 2/30 day coding challenge\n",
    "\n",
    "#guessing a magic number\n",
    "\n",
    "import random as r\n",
    "\n",
    "def guessing_game():\n",
    "    Magic_num = r.randint(1,10)\n",
    "    attempts = 5\n",
    "\n",
    "    print(\"Guess the magic number between 1 and 10! You have 5 attempts.\")\n",
    "\n",
    "    while attempts > 0:\n",
    "        try:\n",
    "            guess = int(input(\"Enter your guess: \"))\n",
    "\n",
    "            if guess < 1 or guess > 10:\n",
    "                print(\"Please enter a number between 1 and 10.\")\n",
    "                continue\n",
    "                \n",
    "            if guess == Magic_num:\n",
    "                print(\"Congratulations! Your guess is correct.\")\n",
    "                return \n",
    "            else: \n",
    "                attempts -= 1\n",
    "                if abs(guess - Magic_num) >=5:\n",
    "                    hint = \"Too low!\" if guess < Magic_num else \"Too high!\"\n",
    "                    print(f\"{hint} Try again. Attempts left: {attempts}\")\n",
    "                else:\n",
    "                    print(F\"Not the correct one. Attempts left: {attempts}\")\n",
    "                \n",
    "        except ValueError:\n",
    "             print(\"Invalid input! Please enter a valid number.\")\n",
    "    print(f\" !!Out of attempts!!%%HTML The magic number was {Magic_num}.\")\n",
    "    \n",
    "guessing_game()          "
   ]
  }
 ],
 "metadata": {
  "kernelspec": {
   "display_name": "Python 3 (ipykernel)",
   "language": "python",
   "name": "python3"
  },
  "language_info": {
   "codemirror_mode": {
    "name": "ipython",
    "version": 3
   },
   "file_extension": ".py",
   "mimetype": "text/x-python",
   "name": "python",
   "nbconvert_exporter": "python",
   "pygments_lexer": "ipython3",
   "version": "3.12.7"
  }
 },
 "nbformat": 4,
 "nbformat_minor": 5
}
